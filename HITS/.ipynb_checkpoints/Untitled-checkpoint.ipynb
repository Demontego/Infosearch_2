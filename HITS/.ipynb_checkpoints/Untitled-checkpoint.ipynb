{
 "cells": [
  {
   "cell_type": "code",
   "execution_count": 60,
   "metadata": {},
   "outputs": [],
   "source": [
    "import numpy as np\n",
    "graph_1={}\n",
    "graph_2={}\n",
    "d={}\n",
    "with open(\"link_graph_series.txt\", 'r', encoding = 'utf-8') as f:\n",
    "    for r in f:\n",
    "        a,b=r.strip().split('\\t')\n",
    "        #print(a,b)\n",
    "        #a=hash(a)\n",
    "        #b=hash(b)\n",
    "        #print(a,b)\n",
    "        if a not in graph_1:\n",
    "            graph_1[a]=set()\n",
    "            graph_1[a].add(b)\n",
    "        else:\n",
    "            graph_1[a].add(b)\n",
    "        if b not in graph_2:\n",
    "            graph_2[b]=set()\n",
    "            #print(graph_2[b])\n",
    "            graph_2[b].add(a)\n",
    "        else:\n",
    "            graph_2[b].add(a)\n",
    "        if a not in d:\n",
    "            d[a] = [1, 1]\n",
    "        if b not in d:\n",
    "            d[b] = [1, 1]\n",
    "        "
   ]
  },
  {
   "cell_type": "code",
   "execution_count": 22,
   "metadata": {},
   "outputs": [],
   "source": [
    "check = {}\n",
    "if a not in check:\n",
    "    check[a] = 0"
   ]
  },
  {
   "cell_type": "code",
   "execution_count": 42,
   "metadata": {},
   "outputs": [],
   "source": [
    "import copy"
   ]
  },
  {
   "cell_type": "code",
   "execution_count": 61,
   "metadata": {},
   "outputs": [],
   "source": [
    "for i in range(5):\n",
    "    tmp = {}\n",
    "    for site in d:\n",
    "        tmp_a = d[site][0]\n",
    "        tmp_h = d[site][1]\n",
    "        tmp[site] = [tmp_a, tmp_h]\n",
    "        if site in graph_1:\n",
    "            tmp_a = np.sum([d[sit][1] for sit in graph_1[site]])\n",
    "        if site in graph_2:\n",
    "            tmp_h = np.sum([d[sit][0] for sit in graph_2[site]])\n",
    "        tmp[site][0] = tmp_a\n",
    "        tmp[site][1] = tmp_h\n",
    "    d = copy.deepcopy(tmp)"
   ]
  },
  {
   "cell_type": "code",
   "execution_count": 62,
   "metadata": {},
   "outputs": [],
   "source": [
    "d_a = dict()\n",
    "for site in d:\n",
    "    d_a[site]=d[site][0]\n",
    "d_h = dict()\n",
    "for site in d:\n",
    "    d_h[site]=d[site][1]"
   ]
  },
  {
   "cell_type": "code",
   "execution_count": 8,
   "metadata": {},
   "outputs": [],
   "source": [
    "import operator"
   ]
  },
  {
   "cell_type": "code",
   "execution_count": 63,
   "metadata": {},
   "outputs": [],
   "source": [
    "a_=sorted(d_a.items(),key=operator.itemgetter(1),reverse=True)"
   ]
  },
  {
   "cell_type": "code",
   "execution_count": 67,
   "metadata": {},
   "outputs": [
    {
     "name": "stdout",
     "output_type": "stream",
     "text": [
      "/person/637121_andrej_golubev/\n"
     ]
    }
   ],
   "source": [
    "for i,k in a_:\n",
    "    if 'person/' in i:\n",
    "        print(i)\n",
    "        break"
   ]
  },
  {
   "cell_type": "code",
   "execution_count": 64,
   "metadata": {},
   "outputs": [
    {
     "name": "stdout",
     "output_type": "stream",
     "text": [
      "/series_889996_kosti/\n"
     ]
    }
   ],
   "source": [
    "for i,k in a_:\n",
    "    if 'series_' in i:\n",
    "        print(i)\n",
    "        break"
   ]
  },
  {
   "cell_type": "code",
   "execution_count": 65,
   "metadata": {},
   "outputs": [],
   "source": [
    "h_=sorted(d_h.items(),key=operator.itemgetter(1),reverse=True)"
   ]
  },
  {
   "cell_type": "code",
   "execution_count": 66,
   "metadata": {},
   "outputs": [
    {
     "name": "stdout",
     "output_type": "stream",
     "text": [
      "/person/629004_aleksandr_kushaev/\n"
     ]
    }
   ],
   "source": [
    "for i,k in h_:\n",
    "    if 'person/' in i:\n",
    "        print(i)\n",
    "        break"
   ]
  },
  {
   "cell_type": "code",
   "execution_count": 69,
   "metadata": {},
   "outputs": [
    {
     "name": "stdout",
     "output_type": "stream",
     "text": [
      "/series_788808_zakon_los_andzhelesa/\n"
     ]
    }
   ],
   "source": [
    "for i,k in h_:\n",
    "    if 'series_' in i:\n",
    "        print(i)\n",
    "        break"
   ]
  },
  {
   "cell_type": "code",
   "execution_count": 8,
   "metadata": {},
   "outputs": [
    {
     "data": {
      "text/plain": [
       "{}"
      ]
     },
     "execution_count": 8,
     "metadata": {},
     "output_type": "execute_result"
    }
   ],
   "source": [
    "c"
   ]
  },
  {
   "cell_type": "code",
   "execution_count": null,
   "metadata": {},
   "outputs": [],
   "source": []
  }
 ],
 "metadata": {
  "kernelspec": {
   "display_name": "Python 3",
   "language": "python",
   "name": "python3"
  }
 },
 "nbformat": 4,
 "nbformat_minor": 4
}
