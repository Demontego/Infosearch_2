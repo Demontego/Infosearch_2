{
 "cells": [
  {
   "cell_type": "markdown",
   "metadata": {},
   "source": [
    "### student:Ринат Курбанов"
   ]
  },
  {
   "cell_type": "code",
   "execution_count": 1,
   "metadata": {},
   "outputs": [],
   "source": [
    "import numpy as np\n",
    "import math\n",
    "from scipy import stats"
   ]
  },
  {
   "cell_type": "code",
   "execution_count": 12,
   "metadata": {},
   "outputs": [],
   "source": [
    "group_size = 100\n",
    "alpha=0.05\n",
    "t_threshold=1.96\n",
    "N_ASL_samples = 1000\n",
    "ASL_sample_size = 100"
   ]
  },
  {
   "cell_type": "code",
   "execution_count": 3,
   "metadata": {},
   "outputs": [],
   "source": [
    "def load_data(path, line_length=10):\n",
    "    data = []\n",
    "    with open(path) as file:\n",
    "        for line in file:\n",
    "            data += [np.array([int(i) for i in line.split(' ')], dtype=int)]\n",
    "    return np.array(data)\n",
    "    \n",
    "c_1 = load_data(\"c1.txt\")\n",
    "c_2 = load_data(\"c2.txt\")"
   ]
  },
  {
   "cell_type": "markdown",
   "metadata": {},
   "source": [
    "CTR кол-во запросов с кликами"
   ]
  },
  {
   "cell_type": "code",
   "execution_count": 5,
   "metadata": {},
   "outputs": [],
   "source": [
    "def get_CTR(data):\n",
    "    CTR = np.empty(data.shape[0] // group_size)\n",
    "    for i in range(CTR.size):\n",
    "        click = np.sum(data[i * group_size: (i + 1) * group_size], axis=1)\n",
    "        CTR[i] = np.count_nonzero(click != 0)  / group_size\n",
    "    return CTR\n",
    "\n",
    "CTR_1 = get_CTR(c_1)\n",
    "CTR_2 = get_CTR(c_2)"
   ]
  },
  {
   "cell_type": "markdown",
   "metadata": {},
   "source": [
    "Clicks per Query"
   ]
  },
  {
   "cell_type": "code",
   "execution_count": 6,
   "metadata": {},
   "outputs": [],
   "source": [
    "def get_CPQ(data):\n",
    "    CPQ = np.empty(data.shape[0] // group_size)\n",
    "    for i in range(CPQ.size):\n",
    "        click = np.sum(data[i * group_size: (i + 1) * group_size], axis=1)\n",
    "        CPQ[i] = np.sum(click)\n",
    "    return CPQ\n",
    "\n",
    "CPQ_1 = get_CPQ(c_1)\n",
    "CPQ_2 = get_CPQ(c_2)"
   ]
  },
  {
   "cell_type": "markdown",
   "metadata": {},
   "source": [
    "Clicks on top results"
   ]
  },
  {
   "cell_type": "code",
   "execution_count": 7,
   "metadata": {},
   "outputs": [],
   "source": [
    "def get_ConTOP(data):\n",
    "    ConTOP = np.empty(data.shape[0] // group_size)\n",
    "    for i in range(ConTOP.size):\n",
    "        ConTOP[i] = np.sum(data[i * group_size: (i + 1) * group_size,0])\n",
    "    return ConTOP\n",
    "\n",
    "ConTOP_1 = get_ConTOP(c_1)\n",
    "ConTOP_2 = get_ConTOP(c_2)"
   ]
  },
  {
   "cell_type": "code",
   "execution_count": 15,
   "metadata": {},
   "outputs": [],
   "source": [
    "def get_ASL(metric_c1, metric_c2):\n",
    "    count = 0\n",
    "    idx = range(metric_c1.size)\n",
    "    for i in range(N_ASL_samples):\n",
    "        samples_idx = np.random.choice(idx, size=ASL_sample_size, replace=True)\n",
    "        t_stat = stats.ttest_ind(metric_c1[samples_idx], metric_c2[samples_idx])\n",
    "        count += (t_stat[1] < alpha) and (t_stat[0]>t_threshold)\n",
    "    return count / N_ASL_samples"
   ]
  },
  {
   "cell_type": "markdown",
   "metadata": {},
   "source": [
    "Считаем ASL для каждой метрики"
   ]
  },
  {
   "cell_type": "code",
   "execution_count": 16,
   "metadata": {},
   "outputs": [
    {
     "data": {
      "text/plain": [
       "0.989"
      ]
     },
     "execution_count": 16,
     "metadata": {},
     "output_type": "execute_result"
    }
   ],
   "source": [
    "get_ASL(CTR_1,CTR_2)"
   ]
  },
  {
   "cell_type": "code",
   "execution_count": 17,
   "metadata": {},
   "outputs": [
    {
     "data": {
      "text/plain": [
       "1.0"
      ]
     },
     "execution_count": 17,
     "metadata": {},
     "output_type": "execute_result"
    }
   ],
   "source": [
    "get_ASL(CPQ_1,CPQ_2)"
   ]
  },
  {
   "cell_type": "code",
   "execution_count": 18,
   "metadata": {},
   "outputs": [
    {
     "data": {
      "text/plain": [
       "1.0"
      ]
     },
     "execution_count": 18,
     "metadata": {},
     "output_type": "execute_result"
    }
   ],
   "source": [
    "get_ASL(ConTOP_1,ConTOP_2)"
   ]
  },
  {
   "cell_type": "markdown",
   "metadata": {},
   "source": [
    "По трем результатам гипотеза H0 отвергнута. "
   ]
  },
  {
   "cell_type": "code",
   "execution_count": null,
   "metadata": {},
   "outputs": [],
   "source": []
  }
 ],
 "metadata": {
  "kernelspec": {
   "display_name": "Python 3",
   "language": "python",
   "name": "python3"
  },
  "language_info": {
   "codemirror_mode": {
    "name": "ipython",
    "version": 3
   },
   "file_extension": ".py",
   "mimetype": "text/x-python",
   "name": "python",
   "nbconvert_exporter": "python",
   "pygments_lexer": "ipython3",
   "version": "3.7.4"
  }
 },
 "nbformat": 4,
 "nbformat_minor": 2
}
